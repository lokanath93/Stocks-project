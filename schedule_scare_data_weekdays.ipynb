{
 "cells": [
  {
   "cell_type": "code",
   "execution_count": 4,
   "id": "52e980ca-b514-4f97-b048-3764deb57bc3",
   "metadata": {},
   "outputs": [
    {
     "name": "stdout",
     "output_type": "stream",
     "text": [
      "Inside while\n",
      "Inside weekday\n",
      "Inside while\n",
      "Inside weekday\n",
      "Data written to 20240624_scraped_data.csv for sector Alcohol\n",
      "Data written to 20240624_scraped_data.csv for sector Automobile & Ancillaries\n",
      "Data written to 20240624_scraped_data.csv for sector Aviation\n",
      "Data written to 20240624_scraped_data.csv for sector Banks\n",
      "Data written to 20240624_scraped_data.csv for sector Capital Goods\n",
      "Data written to 20240624_scraped_data.csv for sector Chemicals\n",
      "Data written to 20240624_scraped_data.csv for sector Construction Materials\n",
      "Data written to 20240624_scraped_data.csv for sector Consumer Durables\n",
      "Data written to 20240624_scraped_data.csv for sector Containers & Packaging\n",
      "Data written to 20240624_scraped_data.csv for sector Diamond  &  Jewellery\n",
      "Data written to 20240624_scraped_data.csv for sector Diversified\n",
      "Data written to 20240624_scraped_data.csv for sector Electricals\n",
      "Data written to 20240624_scraped_data.csv for sector ETF\n",
      "Data written to 20240624_scraped_data.csv for sector Finance\n",
      "Failed to retrieve the page. Status code: 403\n",
      "Failed to retrieve the page. Status code: 403\n",
      "Data written to 20240624_scraped_data.csv for sector Healthcare\n",
      "Data written to 20240624_scraped_data.csv for sector Hospitality\n",
      "Data written to 20240624_scraped_data.csv for sector Industrial Gases & Fuels\n",
      "Failed to retrieve the page. Status code: 403\n",
      "Data written to 20240624_scraped_data.csv for sector Insurance\n",
      "Data written to 20240624_scraped_data.csv for sector Logistics\n",
      "Data written to 20240624_scraped_data.csv for sector Manufacturing\n",
      "Data written to 20240624_scraped_data.csv for sector Media & Entertainment\n",
      "Data written to 20240624_scraped_data.csv for sector Metals & Mining\n",
      "Data written to 20240624_scraped_data.csv for sector Miscellaneous\n",
      "Data written to 20240624_scraped_data.csv for sector Oil & Gas\n",
      "Data written to 20240624_scraped_data.csv for sector Paper\n",
      "Data written to 20240624_scraped_data.csv for sector Photographic Products\n",
      "Data written to 20240624_scraped_data.csv for sector Plastic Products\n",
      "Data written to 20240624_scraped_data.csv for sector Power\n",
      "Data written to 20240624_scraped_data.csv for sector Real Estate\n",
      "Data written to 20240624_scraped_data.csv for sector Retailing\n",
      "Data written to 20240624_scraped_data.csv for sector Ship Building\n",
      "Failed to retrieve the page. Status code: 403\n",
      "Data written to 20240624_scraped_data.csv for sector Telecom\n",
      "Data written to 20240624_scraped_data.csv for sector Textiles\n",
      "Data written to 20240624_scraped_data.csv for sector Trading\n",
      "Inside while\n",
      "Inside weekday\n",
      "Inside while\n",
      "Inside weekday\n"
     ]
    },
    {
     "ename": "KeyboardInterrupt",
     "evalue": "",
     "output_type": "error",
     "traceback": [
      "\u001b[0;31m---------------------------------------------------------------------------\u001b[0m",
      "\u001b[0;31mKeyboardInterrupt\u001b[0m                         Traceback (most recent call last)",
      "Cell \u001b[0;32mIn[4], line 26\u001b[0m\n\u001b[1;32m     24\u001b[0m     \u001b[38;5;28mprint\u001b[39m(\u001b[38;5;124m'\u001b[39m\u001b[38;5;124mInside weekday\u001b[39m\u001b[38;5;124m'\u001b[39m)\n\u001b[1;32m     25\u001b[0m     schedule\u001b[38;5;241m.\u001b[39mrun_pending()\n\u001b[0;32m---> 26\u001b[0m \u001b[43mtime\u001b[49m\u001b[38;5;241;43m.\u001b[39;49m\u001b[43msleep\u001b[49m\u001b[43m(\u001b[49m\u001b[38;5;241;43m60\u001b[39;49m\u001b[43m)\u001b[49m\n",
      "\u001b[0;31mKeyboardInterrupt\u001b[0m: "
     ]
    }
   ],
   "source": [
    "import schedule\n",
    "import time\n",
    "import os\n",
    "from datetime import datetime\n",
    "\n",
    "def run_script():\n",
    "    # Replace 'target_script.py' with the path to your target script\n",
    "    os.system('ipython <<update path here>>/scare_data_from_web_page.ipynb')\n",
    "\n",
    "def is_weekday():\n",
    "    # Return True if today is a weekday (Monday to Friday)\n",
    "    return datetime.today().weekday() < 5\n",
    "\n",
    "# Schedule the script to run at a specific time every weekday (e.g., 9:00 AM)\n",
    "schedule.every().monday.at(\"09:00\").do(run_script)\n",
    "schedule.every().tuesday.at(\"09:00\").do(run_script)\n",
    "schedule.every().wednesday.at(\"09:00\").do(run_script)\n",
    "schedule.every().thursday.at(\"09:00\").do(run_script)\n",
    "schedule.every().friday.at(\"09:00\").do(run_script)\n",
    "\n",
    "while True:\n",
    "    print('Inside while')\n",
    "    if is_weekday():\n",
    "        print('Inside weekday')\n",
    "        schedule.run_pending()\n",
    "    time.sleep(60)\n"
   ]
  },
  {
   "cell_type": "code",
   "execution_count": null,
   "id": "27ba2015-1b65-4a78-b6de-79570481cb38",
   "metadata": {},
   "outputs": [],
   "source": []
  }
 ],
 "metadata": {
  "kernelspec": {
   "display_name": "Python 3 (ipykernel)",
   "language": "python",
   "name": "python3"
  },
  "language_info": {
   "codemirror_mode": {
    "name": "ipython",
    "version": 3
   },
   "file_extension": ".py",
   "mimetype": "text/x-python",
   "name": "python",
   "nbconvert_exporter": "python",
   "pygments_lexer": "ipython3",
   "version": "3.11.4"
  }
 },
 "nbformat": 4,
 "nbformat_minor": 5
}
